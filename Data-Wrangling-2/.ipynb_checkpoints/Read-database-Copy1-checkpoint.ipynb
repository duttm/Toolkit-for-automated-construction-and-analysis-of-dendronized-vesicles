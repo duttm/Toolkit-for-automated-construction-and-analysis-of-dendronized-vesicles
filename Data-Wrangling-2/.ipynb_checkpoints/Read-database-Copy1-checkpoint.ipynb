{
 "cells": [
  {
   "cell_type": "code",
   "execution_count": 14,
   "id": "6068c47f",
   "metadata": {},
   "outputs": [],
   "source": [
    "# Read Text Files with Pandas using read_csv()\n",
    "\n",
    "# importing pandas\n",
    "import pandas as pd\n",
    "import matplotlib.pyplot as plt\n",
    "\n",
    "# read text file into pandas DataFrame\n",
    "df = pd.read_csv(\"array.csv\", sep=\",\")\n",
    "\n",
    "# display DataFrame\n",
    "##print(df)\n"
   ]
  },
  {
   "cell_type": "markdown",
   "id": "6e4cf950",
   "metadata": {},
   "source": [
    "# Let's read the dataset"
   ]
  },
  {
   "cell_type": "code",
   "execution_count": 15,
   "id": "e3141ac4",
   "metadata": {
    "scrolled": false
   },
   "outputs": [
    {
     "data": {
      "text/html": [
       "<div>\n",
       "<style scoped>\n",
       "    .dataframe tbody tr th:only-of-type {\n",
       "        vertical-align: middle;\n",
       "    }\n",
       "\n",
       "    .dataframe tbody tr th {\n",
       "        vertical-align: top;\n",
       "    }\n",
       "\n",
       "    .dataframe thead th {\n",
       "        text-align: right;\n",
       "    }\n",
       "</style>\n",
       "<table border=\"1\" class=\"dataframe\">\n",
       "  <thead>\n",
       "    <tr style=\"text-align: right;\">\n",
       "      <th></th>\n",
       "      <th>Generation</th>\n",
       "      <th>pH</th>\n",
       "      <th>Concentration</th>\n",
       "      <th>ROG_DENS_TA</th>\n",
       "      <th>TA-TA</th>\n",
       "      <th>TA-PO4</th>\n",
       "      <th>Den_layer_thickness</th>\n",
       "      <th>DHS_TAbeads</th>\n",
       "      <th>AND_results</th>\n",
       "      <th>hydrophobic_vol</th>\n",
       "      <th>packing_factor</th>\n",
       "      <th>Thickness_Bilayer</th>\n",
       "      <th>Unnamed: 12</th>\n",
       "    </tr>\n",
       "  </thead>\n",
       "  <tbody>\n",
       "    <tr>\n",
       "      <th>0</th>\n",
       "      <td>G1</td>\n",
       "      <td>ACIDIC</td>\n",
       "      <td>72</td>\n",
       "      <td>0.796391</td>\n",
       "      <td>0.010237</td>\n",
       "      <td>0.894698</td>\n",
       "      <td>0.462293</td>\n",
       "      <td>0.143111</td>\n",
       "      <td>5.364419</td>\n",
       "      <td>1682.267553</td>\n",
       "      <td>0.794188</td>\n",
       "      <td>3.825903</td>\n",
       "      <td>NaN</td>\n",
       "    </tr>\n",
       "    <tr>\n",
       "      <th>1</th>\n",
       "      <td>G1</td>\n",
       "      <td>ACIDIC</td>\n",
       "      <td>127</td>\n",
       "      <td>0.795996</td>\n",
       "      <td>0.023526</td>\n",
       "      <td>0.875191</td>\n",
       "      <td>0.558390</td>\n",
       "      <td>0.244879</td>\n",
       "      <td>4.301104</td>\n",
       "      <td>1691.537626</td>\n",
       "      <td>0.795047</td>\n",
       "      <td>3.862980</td>\n",
       "      <td>NaN</td>\n",
       "    </tr>\n",
       "    <tr>\n",
       "      <th>2</th>\n",
       "      <td>G1</td>\n",
       "      <td>ACIDIC</td>\n",
       "      <td>162</td>\n",
       "      <td>0.798167</td>\n",
       "      <td>0.038624</td>\n",
       "      <td>0.876753</td>\n",
       "      <td>0.468930</td>\n",
       "      <td>0.315076</td>\n",
       "      <td>3.745642</td>\n",
       "      <td>1693.994546</td>\n",
       "      <td>0.795061</td>\n",
       "      <td>3.872406</td>\n",
       "      <td>NaN</td>\n",
       "    </tr>\n",
       "    <tr>\n",
       "      <th>3</th>\n",
       "      <td>G1</td>\n",
       "      <td>ACIDIC</td>\n",
       "      <td>199</td>\n",
       "      <td>0.802201</td>\n",
       "      <td>0.057309</td>\n",
       "      <td>0.861219</td>\n",
       "      <td>0.488707</td>\n",
       "      <td>0.379118</td>\n",
       "      <td>3.396565</td>\n",
       "      <td>1700.394029</td>\n",
       "      <td>0.795306</td>\n",
       "      <td>3.894364</td>\n",
       "      <td>NaN</td>\n",
       "    </tr>\n",
       "    <tr>\n",
       "      <th>4</th>\n",
       "      <td>G1</td>\n",
       "      <td>ACIDIC</td>\n",
       "      <td>200</td>\n",
       "      <td>0.795913</td>\n",
       "      <td>0.051061</td>\n",
       "      <td>0.863138</td>\n",
       "      <td>0.523033</td>\n",
       "      <td>0.369977</td>\n",
       "      <td>3.487099</td>\n",
       "      <td>1677.731096</td>\n",
       "      <td>0.793453</td>\n",
       "      <td>3.859036</td>\n",
       "      <td>NaN</td>\n",
       "    </tr>\n",
       "  </tbody>\n",
       "</table>\n",
       "</div>"
      ],
      "text/plain": [
       "  Generation      pH  Concentration  ROG_DENS_TA     TA-TA    TA-PO4  \\\n",
       "0         G1  ACIDIC             72     0.796391  0.010237  0.894698   \n",
       "1         G1  ACIDIC            127     0.795996  0.023526  0.875191   \n",
       "2         G1  ACIDIC            162     0.798167  0.038624  0.876753   \n",
       "3         G1  ACIDIC            199     0.802201  0.057309  0.861219   \n",
       "4         G1  ACIDIC            200     0.795913  0.051061  0.863138   \n",
       "\n",
       "   Den_layer_thickness  DHS_TAbeads  AND_results  hydrophobic_vol  \\\n",
       "0             0.462293     0.143111     5.364419      1682.267553   \n",
       "1             0.558390     0.244879     4.301104      1691.537626   \n",
       "2             0.468930     0.315076     3.745642      1693.994546   \n",
       "3             0.488707     0.379118     3.396565      1700.394029   \n",
       "4             0.523033     0.369977     3.487099      1677.731096   \n",
       "\n",
       "   packing_factor  Thickness_Bilayer  Unnamed: 12  \n",
       "0        0.794188           3.825903          NaN  \n",
       "1        0.795047           3.862980          NaN  \n",
       "2        0.795061           3.872406          NaN  \n",
       "3        0.795306           3.894364          NaN  \n",
       "4        0.793453           3.859036          NaN  "
      ]
     },
     "execution_count": 15,
     "metadata": {},
     "output_type": "execute_result"
    }
   ],
   "source": [
    "df.head()"
   ]
  },
  {
   "cell_type": "markdown",
   "id": "0ab74379",
   "metadata": {},
   "source": [
    "## Drop unnecessary columns "
   ]
  },
  {
   "cell_type": "code",
   "execution_count": 16,
   "id": "a033cab4",
   "metadata": {},
   "outputs": [],
   "source": [
    "df.drop(df.columns[df.columns.str.contains('unnamed',case = False)],axis = 1, inplace = True)"
   ]
  },
  {
   "cell_type": "markdown",
   "id": "3c69ba23",
   "metadata": {},
   "source": [
    "## Head of the dataset"
   ]
  },
  {
   "cell_type": "code",
   "execution_count": 17,
   "id": "a6e3c691",
   "metadata": {},
   "outputs": [
    {
     "data": {
      "text/html": [
       "<div>\n",
       "<style scoped>\n",
       "    .dataframe tbody tr th:only-of-type {\n",
       "        vertical-align: middle;\n",
       "    }\n",
       "\n",
       "    .dataframe tbody tr th {\n",
       "        vertical-align: top;\n",
       "    }\n",
       "\n",
       "    .dataframe thead th {\n",
       "        text-align: right;\n",
       "    }\n",
       "</style>\n",
       "<table border=\"1\" class=\"dataframe\">\n",
       "  <thead>\n",
       "    <tr style=\"text-align: right;\">\n",
       "      <th></th>\n",
       "      <th>Generation</th>\n",
       "      <th>pH</th>\n",
       "      <th>Concentration</th>\n",
       "      <th>ROG_DENS_TA</th>\n",
       "      <th>TA-TA</th>\n",
       "      <th>TA-PO4</th>\n",
       "      <th>Den_layer_thickness</th>\n",
       "      <th>DHS_TAbeads</th>\n",
       "      <th>AND_results</th>\n",
       "      <th>hydrophobic_vol</th>\n",
       "      <th>packing_factor</th>\n",
       "      <th>Thickness_Bilayer</th>\n",
       "    </tr>\n",
       "  </thead>\n",
       "  <tbody>\n",
       "    <tr>\n",
       "      <th>0</th>\n",
       "      <td>G1</td>\n",
       "      <td>ACIDIC</td>\n",
       "      <td>72</td>\n",
       "      <td>0.796391</td>\n",
       "      <td>0.010237</td>\n",
       "      <td>0.894698</td>\n",
       "      <td>0.462293</td>\n",
       "      <td>0.143111</td>\n",
       "      <td>5.364419</td>\n",
       "      <td>1682.267553</td>\n",
       "      <td>0.794188</td>\n",
       "      <td>3.825903</td>\n",
       "    </tr>\n",
       "    <tr>\n",
       "      <th>1</th>\n",
       "      <td>G1</td>\n",
       "      <td>ACIDIC</td>\n",
       "      <td>127</td>\n",
       "      <td>0.795996</td>\n",
       "      <td>0.023526</td>\n",
       "      <td>0.875191</td>\n",
       "      <td>0.558390</td>\n",
       "      <td>0.244879</td>\n",
       "      <td>4.301104</td>\n",
       "      <td>1691.537626</td>\n",
       "      <td>0.795047</td>\n",
       "      <td>3.862980</td>\n",
       "    </tr>\n",
       "    <tr>\n",
       "      <th>2</th>\n",
       "      <td>G1</td>\n",
       "      <td>ACIDIC</td>\n",
       "      <td>162</td>\n",
       "      <td>0.798167</td>\n",
       "      <td>0.038624</td>\n",
       "      <td>0.876753</td>\n",
       "      <td>0.468930</td>\n",
       "      <td>0.315076</td>\n",
       "      <td>3.745642</td>\n",
       "      <td>1693.994546</td>\n",
       "      <td>0.795061</td>\n",
       "      <td>3.872406</td>\n",
       "    </tr>\n",
       "    <tr>\n",
       "      <th>3</th>\n",
       "      <td>G1</td>\n",
       "      <td>ACIDIC</td>\n",
       "      <td>199</td>\n",
       "      <td>0.802201</td>\n",
       "      <td>0.057309</td>\n",
       "      <td>0.861219</td>\n",
       "      <td>0.488707</td>\n",
       "      <td>0.379118</td>\n",
       "      <td>3.396565</td>\n",
       "      <td>1700.394029</td>\n",
       "      <td>0.795306</td>\n",
       "      <td>3.894364</td>\n",
       "    </tr>\n",
       "    <tr>\n",
       "      <th>4</th>\n",
       "      <td>G1</td>\n",
       "      <td>ACIDIC</td>\n",
       "      <td>200</td>\n",
       "      <td>0.795913</td>\n",
       "      <td>0.051061</td>\n",
       "      <td>0.863138</td>\n",
       "      <td>0.523033</td>\n",
       "      <td>0.369977</td>\n",
       "      <td>3.487099</td>\n",
       "      <td>1677.731096</td>\n",
       "      <td>0.793453</td>\n",
       "      <td>3.859036</td>\n",
       "    </tr>\n",
       "  </tbody>\n",
       "</table>\n",
       "</div>"
      ],
      "text/plain": [
       "  Generation      pH  Concentration  ROG_DENS_TA     TA-TA    TA-PO4  \\\n",
       "0         G1  ACIDIC             72     0.796391  0.010237  0.894698   \n",
       "1         G1  ACIDIC            127     0.795996  0.023526  0.875191   \n",
       "2         G1  ACIDIC            162     0.798167  0.038624  0.876753   \n",
       "3         G1  ACIDIC            199     0.802201  0.057309  0.861219   \n",
       "4         G1  ACIDIC            200     0.795913  0.051061  0.863138   \n",
       "\n",
       "   Den_layer_thickness  DHS_TAbeads  AND_results  hydrophobic_vol  \\\n",
       "0             0.462293     0.143111     5.364419      1682.267553   \n",
       "1             0.558390     0.244879     4.301104      1691.537626   \n",
       "2             0.468930     0.315076     3.745642      1693.994546   \n",
       "3             0.488707     0.379118     3.396565      1700.394029   \n",
       "4             0.523033     0.369977     3.487099      1677.731096   \n",
       "\n",
       "   packing_factor  Thickness_Bilayer  \n",
       "0        0.794188           3.825903  \n",
       "1        0.795047           3.862980  \n",
       "2        0.795061           3.872406  \n",
       "3        0.795306           3.894364  \n",
       "4        0.793453           3.859036  "
      ]
     },
     "execution_count": 17,
     "metadata": {},
     "output_type": "execute_result"
    }
   ],
   "source": [
    "df.head()"
   ]
  },
  {
   "cell_type": "markdown",
   "id": "faa6b8be",
   "metadata": {},
   "source": [
    "## Tail of the dataset"
   ]
  },
  {
   "cell_type": "code",
   "execution_count": 18,
   "id": "03a81b83",
   "metadata": {},
   "outputs": [
    {
     "data": {
      "text/html": [
       "<div>\n",
       "<style scoped>\n",
       "    .dataframe tbody tr th:only-of-type {\n",
       "        vertical-align: middle;\n",
       "    }\n",
       "\n",
       "    .dataframe tbody tr th {\n",
       "        vertical-align: top;\n",
       "    }\n",
       "\n",
       "    .dataframe thead th {\n",
       "        text-align: right;\n",
       "    }\n",
       "</style>\n",
       "<table border=\"1\" class=\"dataframe\">\n",
       "  <thead>\n",
       "    <tr style=\"text-align: right;\">\n",
       "      <th></th>\n",
       "      <th>Generation</th>\n",
       "      <th>pH</th>\n",
       "      <th>Concentration</th>\n",
       "      <th>ROG_DENS_TA</th>\n",
       "      <th>TA-TA</th>\n",
       "      <th>TA-PO4</th>\n",
       "      <th>Den_layer_thickness</th>\n",
       "      <th>DHS_TAbeads</th>\n",
       "      <th>AND_results</th>\n",
       "      <th>hydrophobic_vol</th>\n",
       "      <th>packing_factor</th>\n",
       "      <th>Thickness_Bilayer</th>\n",
       "    </tr>\n",
       "  </thead>\n",
       "  <tbody>\n",
       "    <tr>\n",
       "      <th>104</th>\n",
       "      <td>G6</td>\n",
       "      <td>ACIDIC</td>\n",
       "      <td>49</td>\n",
       "      <td>3.142487</td>\n",
       "      <td>0.072300</td>\n",
       "      <td>0.205789</td>\n",
       "      <td>2.536440</td>\n",
       "      <td>0.647656</td>\n",
       "      <td>6.644296</td>\n",
       "      <td>1688.842053</td>\n",
       "      <td>0.797502</td>\n",
       "      <td>3.903718</td>\n",
       "    </tr>\n",
       "    <tr>\n",
       "      <th>105</th>\n",
       "      <td>G6</td>\n",
       "      <td>BASIC</td>\n",
       "      <td>8</td>\n",
       "      <td>2.941316</td>\n",
       "      <td>0.002321</td>\n",
       "      <td>0.185700</td>\n",
       "      <td>2.421736</td>\n",
       "      <td>0.066901</td>\n",
       "      <td>13.370515</td>\n",
       "      <td>1697.856285</td>\n",
       "      <td>0.797280</td>\n",
       "      <td>3.883832</td>\n",
       "    </tr>\n",
       "    <tr>\n",
       "      <th>106</th>\n",
       "      <td>G6</td>\n",
       "      <td>BASIC</td>\n",
       "      <td>18</td>\n",
       "      <td>2.944509</td>\n",
       "      <td>0.008209</td>\n",
       "      <td>0.184996</td>\n",
       "      <td>2.479070</td>\n",
       "      <td>0.183178</td>\n",
       "      <td>9.664882</td>\n",
       "      <td>1686.304594</td>\n",
       "      <td>0.796369</td>\n",
       "      <td>3.864968</td>\n",
       "    </tr>\n",
       "    <tr>\n",
       "      <th>107</th>\n",
       "      <td>G6</td>\n",
       "      <td>BASIC</td>\n",
       "      <td>32</td>\n",
       "      <td>3.209492</td>\n",
       "      <td>0.036132</td>\n",
       "      <td>0.175752</td>\n",
       "      <td>2.738998</td>\n",
       "      <td>0.321063</td>\n",
       "      <td>7.622025</td>\n",
       "      <td>1686.894849</td>\n",
       "      <td>0.797767</td>\n",
       "      <td>3.915706</td>\n",
       "    </tr>\n",
       "    <tr>\n",
       "      <th>108</th>\n",
       "      <td>G6</td>\n",
       "      <td>BASIC</td>\n",
       "      <td>50</td>\n",
       "      <td>2.992216</td>\n",
       "      <td>0.076630</td>\n",
       "      <td>0.172434</td>\n",
       "      <td>2.597256</td>\n",
       "      <td>0.485525</td>\n",
       "      <td>6.429677</td>\n",
       "      <td>1671.914211</td>\n",
       "      <td>0.796070</td>\n",
       "      <td>3.876621</td>\n",
       "    </tr>\n",
       "  </tbody>\n",
       "</table>\n",
       "</div>"
      ],
      "text/plain": [
       "    Generation      pH  Concentration  ROG_DENS_TA     TA-TA    TA-PO4  \\\n",
       "104         G6  ACIDIC             49     3.142487  0.072300  0.205789   \n",
       "105         G6   BASIC              8     2.941316  0.002321  0.185700   \n",
       "106         G6   BASIC             18     2.944509  0.008209  0.184996   \n",
       "107         G6   BASIC             32     3.209492  0.036132  0.175752   \n",
       "108         G6   BASIC             50     2.992216  0.076630  0.172434   \n",
       "\n",
       "     Den_layer_thickness  DHS_TAbeads  AND_results  hydrophobic_vol  \\\n",
       "104             2.536440     0.647656     6.644296      1688.842053   \n",
       "105             2.421736     0.066901    13.370515      1697.856285   \n",
       "106             2.479070     0.183178     9.664882      1686.304594   \n",
       "107             2.738998     0.321063     7.622025      1686.894849   \n",
       "108             2.597256     0.485525     6.429677      1671.914211   \n",
       "\n",
       "     packing_factor  Thickness_Bilayer  \n",
       "104        0.797502           3.903718  \n",
       "105        0.797280           3.883832  \n",
       "106        0.796369           3.864968  \n",
       "107        0.797767           3.915706  \n",
       "108        0.796070           3.876621  "
      ]
     },
     "execution_count": 18,
     "metadata": {},
     "output_type": "execute_result"
    }
   ],
   "source": [
    "df.tail()"
   ]
  },
  {
   "cell_type": "markdown",
   "id": "d1c7c106",
   "metadata": {},
   "source": [
    "## Plot histograms "
   ]
  },
  {
   "cell_type": "code",
   "execution_count": 19,
   "id": "5d738bf1",
   "metadata": {},
   "outputs": [
    {
     "data": {
      "text/plain": [
       "<AxesSubplot:>"
      ]
     },
     "execution_count": 19,
     "metadata": {},
     "output_type": "execute_result"
    },
    {
     "data": {
      "image/png": "[encoded data removed]",
      "text/plain": [
       "<Figure size 432x288 with 1 Axes>"
      ]
     },
     "metadata": {
      "needs_background": "light"
     },
     "output_type": "display_data"
    }
   ],
   "source": [
    "df['TA-TA'].hist()"
   ]
  },
  {
   "cell_type": "code",
   "execution_count": 20,
   "id": "3e22c7fe",
   "metadata": {},
   "outputs": [
    {
     "data": {
      "text/plain": [
       "<AxesSubplot:>"
      ]
     },
     "execution_count": 20,
     "metadata": {},
     "output_type": "execute_result"
    },
    {
     "data": {
      "image/png": "[encoded data removed]",
      "text/plain": [
       "<Figure size 432x288 with 1 Axes>"
      ]
     },
     "metadata": {
      "needs_background": "light"
     },
     "output_type": "display_data"
    }
   ],
   "source": [
    "df['DHS_TAbeads'].hist()"
   ]
  },
  {
   "cell_type": "code",
   "execution_count": 21,
   "id": "384e3cc1",
   "metadata": {},
   "outputs": [
    {
     "data": {
      "text/plain": [
       "(109, 12)"
      ]
     },
     "execution_count": 21,
     "metadata": {},
     "output_type": "execute_result"
    }
   ],
   "source": [
    "df.shape"
   ]
  },
  {
   "cell_type": "markdown",
   "id": "371e3425",
   "metadata": {},
   "source": [
    "## Ask for something specific"
   ]
  },
  {
   "cell_type": "code",
   "execution_count": 22,
   "id": "74cd4f79",
   "metadata": {},
   "outputs": [
    {
     "data": {
      "text/html": [
       "<div>\n",
       "<style scoped>\n",
       "    .dataframe tbody tr th:only-of-type {\n",
       "        vertical-align: middle;\n",
       "    }\n",
       "\n",
       "    .dataframe tbody tr th {\n",
       "        vertical-align: top;\n",
       "    }\n",
       "\n",
       "    .dataframe thead th {\n",
       "        text-align: right;\n",
       "    }\n",
       "</style>\n",
       "<table border=\"1\" class=\"dataframe\">\n",
       "  <thead>\n",
       "    <tr style=\"text-align: right;\">\n",
       "      <th></th>\n",
       "      <th>Generation</th>\n",
       "      <th>pH</th>\n",
       "      <th>Concentration</th>\n",
       "      <th>ROG_DENS_TA</th>\n",
       "      <th>TA-TA</th>\n",
       "      <th>TA-PO4</th>\n",
       "      <th>Den_layer_thickness</th>\n",
       "      <th>DHS_TAbeads</th>\n",
       "      <th>AND_results</th>\n",
       "      <th>hydrophobic_vol</th>\n",
       "      <th>packing_factor</th>\n",
       "      <th>Thickness_Bilayer</th>\n",
       "    </tr>\n",
       "  </thead>\n",
       "  <tbody>\n",
       "    <tr>\n",
       "      <th>32</th>\n",
       "      <td>G1</td>\n",
       "      <td>BASIC</td>\n",
       "      <td>1152</td>\n",
       "      <td>0.789382</td>\n",
       "      <td>0.594482</td>\n",
       "      <td>0.772671</td>\n",
       "      <td>0.664046</td>\n",
       "      <td>0.914842</td>\n",
       "      <td>1.459220</td>\n",
       "      <td>1667.500272</td>\n",
       "      <td>0.798047</td>\n",
       "      <td>3.773564</td>\n",
       "    </tr>\n",
       "    <tr>\n",
       "      <th>33</th>\n",
       "      <td>G1</td>\n",
       "      <td>BASIC</td>\n",
       "      <td>1458</td>\n",
       "      <td>0.789374</td>\n",
       "      <td>0.659346</td>\n",
       "      <td>0.720097</td>\n",
       "      <td>0.628030</td>\n",
       "      <td>0.950238</td>\n",
       "      <td>1.351902</td>\n",
       "      <td>1714.340070</td>\n",
       "      <td>0.801644</td>\n",
       "      <td>3.884119</td>\n",
       "    </tr>\n",
       "    <tr>\n",
       "      <th>34</th>\n",
       "      <td>G1</td>\n",
       "      <td>BASIC</td>\n",
       "      <td>1682</td>\n",
       "      <td>0.788084</td>\n",
       "      <td>0.704434</td>\n",
       "      <td>0.665034</td>\n",
       "      <td>0.615193</td>\n",
       "      <td>0.972178</td>\n",
       "      <td>1.257548</td>\n",
       "      <td>1688.466948</td>\n",
       "      <td>0.800349</td>\n",
       "      <td>3.807752</td>\n",
       "    </tr>\n",
       "    <tr>\n",
       "      <th>35</th>\n",
       "      <td>G1</td>\n",
       "      <td>BASIC</td>\n",
       "      <td>1922</td>\n",
       "      <td>0.788643</td>\n",
       "      <td>0.730805</td>\n",
       "      <td>0.571765</td>\n",
       "      <td>0.768271</td>\n",
       "      <td>0.965762</td>\n",
       "      <td>1.196726</td>\n",
       "      <td>1685.169533</td>\n",
       "      <td>0.800466</td>\n",
       "      <td>3.818376</td>\n",
       "    </tr>\n",
       "    <tr>\n",
       "      <th>36</th>\n",
       "      <td>G1</td>\n",
       "      <td>BASIC</td>\n",
       "      <td>2178</td>\n",
       "      <td>0.796542</td>\n",
       "      <td>0.756580</td>\n",
       "      <td>0.483328</td>\n",
       "      <td>0.864378</td>\n",
       "      <td>0.975257</td>\n",
       "      <td>1.151801</td>\n",
       "      <td>1673.798472</td>\n",
       "      <td>0.798509</td>\n",
       "      <td>3.639208</td>\n",
       "    </tr>\n",
       "  </tbody>\n",
       "</table>\n",
       "</div>"
      ],
      "text/plain": [
       "   Generation     pH  Concentration  ROG_DENS_TA     TA-TA    TA-PO4  \\\n",
       "32         G1  BASIC           1152     0.789382  0.594482  0.772671   \n",
       "33         G1  BASIC           1458     0.789374  0.659346  0.720097   \n",
       "34         G1  BASIC           1682     0.788084  0.704434  0.665034   \n",
       "35         G1  BASIC           1922     0.788643  0.730805  0.571765   \n",
       "36         G1  BASIC           2178     0.796542  0.756580  0.483328   \n",
       "\n",
       "    Den_layer_thickness  DHS_TAbeads  AND_results  hydrophobic_vol  \\\n",
       "32             0.664046     0.914842     1.459220      1667.500272   \n",
       "33             0.628030     0.950238     1.351902      1714.340070   \n",
       "34             0.615193     0.972178     1.257548      1688.466948   \n",
       "35             0.768271     0.965762     1.196726      1685.169533   \n",
       "36             0.864378     0.975257     1.151801      1673.798472   \n",
       "\n",
       "    packing_factor  Thickness_Bilayer  \n",
       "32        0.798047           3.773564  \n",
       "33        0.801644           3.884119  \n",
       "34        0.800349           3.807752  \n",
       "35        0.800466           3.818376  \n",
       "36        0.798509           3.639208  "
      ]
     },
     "execution_count": 22,
     "metadata": {},
     "output_type": "execute_result"
    }
   ],
   "source": [
    "df[df['DHS_TAbeads'] > 0.9]"
   ]
  },
  {
   "cell_type": "code",
   "execution_count": 23,
   "id": "1e615c15",
   "metadata": {},
   "outputs": [
    {
     "data": {
      "text/html": [
       "<div>\n",
       "<style scoped>\n",
       "    .dataframe tbody tr th:only-of-type {\n",
       "        vertical-align: middle;\n",
       "    }\n",
       "\n",
       "    .dataframe tbody tr th {\n",
       "        vertical-align: top;\n",
       "    }\n",
       "\n",
       "    .dataframe thead th {\n",
       "        text-align: right;\n",
       "    }\n",
       "</style>\n",
       "<table border=\"1\" class=\"dataframe\">\n",
       "  <thead>\n",
       "    <tr style=\"text-align: right;\">\n",
       "      <th></th>\n",
       "      <th>Generation</th>\n",
       "      <th>pH</th>\n",
       "      <th>Concentration</th>\n",
       "      <th>ROG_DENS_TA</th>\n",
       "      <th>TA-TA</th>\n",
       "      <th>TA-PO4</th>\n",
       "      <th>Den_layer_thickness</th>\n",
       "      <th>DHS_TAbeads</th>\n",
       "      <th>AND_results</th>\n",
       "      <th>hydrophobic_vol</th>\n",
       "      <th>packing_factor</th>\n",
       "      <th>Thickness_Bilayer</th>\n",
       "    </tr>\n",
       "  </thead>\n",
       "  <tbody>\n",
       "    <tr>\n",
       "      <th>101</th>\n",
       "      <td>G6</td>\n",
       "      <td>ACIDIC</td>\n",
       "      <td>2</td>\n",
       "      <td>3.287733</td>\n",
       "      <td>0.000000</td>\n",
       "      <td>0.281559</td>\n",
       "      <td>2.122436</td>\n",
       "      <td>0.026069</td>\n",
       "      <td>0.000000</td>\n",
       "      <td>0.000000</td>\n",
       "      <td>0.000000</td>\n",
       "      <td>0.000000</td>\n",
       "    </tr>\n",
       "    <tr>\n",
       "      <th>102</th>\n",
       "      <td>G6</td>\n",
       "      <td>ACIDIC</td>\n",
       "      <td>8</td>\n",
       "      <td>3.257677</td>\n",
       "      <td>0.000240</td>\n",
       "      <td>0.259287</td>\n",
       "      <td>2.305142</td>\n",
       "      <td>0.133057</td>\n",
       "      <td>11.994189</td>\n",
       "      <td>1688.769378</td>\n",
       "      <td>0.797146</td>\n",
       "      <td>3.882760</td>\n",
       "    </tr>\n",
       "    <tr>\n",
       "      <th>103</th>\n",
       "      <td>G6</td>\n",
       "      <td>ACIDIC</td>\n",
       "      <td>17</td>\n",
       "      <td>3.188093</td>\n",
       "      <td>0.005272</td>\n",
       "      <td>0.250833</td>\n",
       "      <td>2.173155</td>\n",
       "      <td>0.332000</td>\n",
       "      <td>9.285653</td>\n",
       "      <td>1705.206588</td>\n",
       "      <td>0.797748</td>\n",
       "      <td>3.926442</td>\n",
       "    </tr>\n",
       "    <tr>\n",
       "      <th>104</th>\n",
       "      <td>G6</td>\n",
       "      <td>ACIDIC</td>\n",
       "      <td>49</td>\n",
       "      <td>3.142487</td>\n",
       "      <td>0.072300</td>\n",
       "      <td>0.205789</td>\n",
       "      <td>2.536440</td>\n",
       "      <td>0.647656</td>\n",
       "      <td>6.644296</td>\n",
       "      <td>1688.842053</td>\n",
       "      <td>0.797502</td>\n",
       "      <td>3.903718</td>\n",
       "    </tr>\n",
       "    <tr>\n",
       "      <th>107</th>\n",
       "      <td>G6</td>\n",
       "      <td>BASIC</td>\n",
       "      <td>32</td>\n",
       "      <td>3.209492</td>\n",
       "      <td>0.036132</td>\n",
       "      <td>0.175752</td>\n",
       "      <td>2.738998</td>\n",
       "      <td>0.321063</td>\n",
       "      <td>7.622025</td>\n",
       "      <td>1686.894849</td>\n",
       "      <td>0.797767</td>\n",
       "      <td>3.915706</td>\n",
       "    </tr>\n",
       "  </tbody>\n",
       "</table>\n",
       "</div>"
      ],
      "text/plain": [
       "    Generation      pH  Concentration  ROG_DENS_TA     TA-TA    TA-PO4  \\\n",
       "101         G6  ACIDIC              2     3.287733  0.000000  0.281559   \n",
       "102         G6  ACIDIC              8     3.257677  0.000240  0.259287   \n",
       "103         G6  ACIDIC             17     3.188093  0.005272  0.250833   \n",
       "104         G6  ACIDIC             49     3.142487  0.072300  0.205789   \n",
       "107         G6   BASIC             32     3.209492  0.036132  0.175752   \n",
       "\n",
       "     Den_layer_thickness  DHS_TAbeads  AND_results  hydrophobic_vol  \\\n",
       "101             2.122436     0.026069     0.000000         0.000000   \n",
       "102             2.305142     0.133057    11.994189      1688.769378   \n",
       "103             2.173155     0.332000     9.285653      1705.206588   \n",
       "104             2.536440     0.647656     6.644296      1688.842053   \n",
       "107             2.738998     0.321063     7.622025      1686.894849   \n",
       "\n",
       "     packing_factor  Thickness_Bilayer  \n",
       "101        0.000000           0.000000  \n",
       "102        0.797146           3.882760  \n",
       "103        0.797748           3.926442  \n",
       "104        0.797502           3.903718  \n",
       "107        0.797767           3.915706  "
      ]
     },
     "execution_count": 23,
     "metadata": {},
     "output_type": "execute_result"
    }
   ],
   "source": [
    "df[df['ROG_DENS_TA'] > 3]"
   ]
  },
  {
   "cell_type": "markdown",
   "id": "15950a3f",
   "metadata": {},
   "source": [
    "## Plots"
   ]
  },
  {
   "cell_type": "code",
   "execution_count": 24,
   "id": "9a2767fe",
   "metadata": {},
   "outputs": [
    {
     "data": {
      "text/plain": [
       "<AxesSubplot:xlabel='Generation'>"
      ]
     },
     "execution_count": 24,
     "metadata": {},
     "output_type": "execute_result"
    },
    {
     "data": {
      "image/png": "[encoded data removed]",
      "text/plain": [
       "<Figure size 432x288 with 1 Axes>"
      ]
     },
     "metadata": {
      "needs_background": "light"
     },
     "output_type": "display_data"
    }
   ],
   "source": [
    "df.plot(x='Generation', y='Concentration', style='o')"
   ]
  },
  {
   "cell_type": "code",
   "execution_count": null,
   "id": "0716b685",
   "metadata": {},
   "outputs": [],
   "source": []
  },
  {
   "cell_type": "code",
   "execution_count": 25,
   "id": "0f186c16",
   "metadata": {},
   "outputs": [
    {
     "data": {
      "text/plain": [
       "<AxesSubplot:xlabel='Den_layer_thickness'>"
      ]
     },
     "execution_count": 25,
     "metadata": {},
     "output_type": "execute_result"
    },
    {
     "data": {
      "image/png": "[encoded data removed]",
      "text/plain": [
       "<Figure size 432x288 with 1 Axes>"
      ]
     },
     "metadata": {
      "needs_background": "light"
     },
     "output_type": "display_data"
    }
   ],
   "source": [
    "df.plot(x='Den_layer_thickness', y='DHS_TAbeads', style='o')"
   ]
  },
  {
   "cell_type": "code",
   "execution_count": 26,
   "id": "581b4ad3",
   "metadata": {},
   "outputs": [
    {
     "data": {
      "image/png": "[encoded data removed]",
      "text/plain": [
       "<Figure size 432x288 with 1 Axes>"
      ]
     },
     "metadata": {
      "needs_background": "light"
     },
     "output_type": "display_data"
    }
   ],
   "source": [
    "threedee = plt.figure().gca(projection='3d')\n",
    "threedee.scatter(df['Den_layer_thickness'], df['AND_results'], df['TA-TA'])\n",
    "threedee.set_xlabel('Den_layer_thickness')\n",
    "threedee.set_ylabel('AND_results')\n",
    "threedee.set_zlabel('TA-TA')\n",
    "plt.show()"
   ]
  },
  {
   "cell_type": "code",
   "execution_count": null,
   "id": "06da405e",
   "metadata": {},
   "outputs": [],
   "source": []
  }
 ],
 "metadata": {
  "kernelspec": {
   "display_name": "Python 3 (ipykernel)",
   "language": "python",
   "name": "python3"
  },
  "language_info": {
   "codemirror_mode": {
    "name": "ipython",
    "version": 3
   },
   "file_extension": ".py",
   "mimetype": "text/x-python",
   "name": "python",
   "nbconvert_exporter": "python",
   "pygments_lexer": "ipython3",
   "version": "3.8.10"
  }
 },
 "nbformat": 4,
 "nbformat_minor": 5
}
